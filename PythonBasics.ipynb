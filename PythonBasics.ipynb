{
  "nbformat": 4,
  "nbformat_minor": 0,
  "metadata": {
    "colab": {
      "provenance": []
    },
    "kernelspec": {
      "name": "python3",
      "display_name": "Python 3"
    },
    "language_info": {
      "name": "python"
    }
  },
  "cells": [
    {
      "cell_type": "markdown",
      "source": [
        "## **Python Basic Questions**"
      ],
      "metadata": {
        "id": "MBaFmKCKfd78"
      }
    },
    {
      "cell_type": "markdown",
      "source": [
        "1. What is Python, and why is it popular?\n",
        "-> Python is a programming language which is easy to understand and write\n",
        "that is what makes it so popular."
      ],
      "metadata": {
        "id": "VInTXPGOfmOZ"
      }
    },
    {
      "cell_type": "markdown",
      "source": [
        "2. What is an interpreter in Python?\n",
        "-> A Python interpreter is a computer program that reads and executes python code line by line."
      ],
      "metadata": {
        "id": "fsDZfI3giJdS"
      }
    },
    {
      "cell_type": "markdown",
      "source": [
        "3. What are pre-defined keywords in Python?\n",
        "\n",
        "-> Pre-defined keywords are reserved words in python which cannot be used as variable names. Examples: if, else, elif, while, for etc."
      ],
      "metadata": {
        "id": "3ujoKBFVoEGF"
      }
    },
    {
      "cell_type": "markdown",
      "source": [
        "4. Can keywords be used as variable names?\n",
        "-> No keywords cannot be used as variable names. Keywords are pre-defined in Python which has some special meaning."
      ],
      "metadata": {
        "id": "xoJvCsOCpx9P"
      }
    },
    {
      "cell_type": "markdown",
      "source": [
        "5. What is mutability in Python?\n",
        "-> Mutability means that an object can be changed or modified after creation. For example, a list can be modified.\n",
        "E.g.,\n"
      ],
      "metadata": {
        "id": "hEnOJi12qFsN"
      }
    },
    {
      "cell_type": "code",
      "source": [
        "list_a = [1, 2, \"Prem\", \"ABC\"]\n",
        "type(list_a)\n",
        "list_a[2] = \"PWSkills\"\n",
        "print(list_a)"
      ],
      "metadata": {
        "colab": {
          "base_uri": "https://localhost:8080/"
        },
        "id": "o_0-OX7Oqu-N",
        "outputId": "c0bd3245-64c6-4e3c-dcb6-02567bc4b655"
      },
      "execution_count": null,
      "outputs": [
        {
          "output_type": "stream",
          "name": "stdout",
          "text": [
            "[1, 2, 'PWSkills', 'ABC']\n"
          ]
        }
      ]
    },
    {
      "cell_type": "markdown",
      "source": [
        "6. Why are lists mutable, but tuples are immutable?\n",
        "-> Lists are mutable because they are designed to be dynamic collections of items that can be modified after creation whereas tuples are immutable because they are designed to be static collection of items that cannot be changed after creation. This is useful when we need to ensure that a collection of items remains constant unchanged."
      ],
      "metadata": {
        "id": "7cXdgDvvrWIa"
      }
    },
    {
      "cell_type": "markdown",
      "source": [
        "7. What is the difference between '==' and 'is' operations in python?\n",
        "-> \"==\" opeartor is used to compare the values of 2 objects wheras \"is\" operator checks if two variables refer to the same object in the memory."
      ],
      "metadata": {
        "id": "HordShqzpnSn"
      }
    },
    {
      "cell_type": "markdown",
      "source": [
        "8. What are logical operators in Python?\n",
        "-> Logical operators are used to combine conditional statements and make decisions based on multiple conditions."
      ],
      "metadata": {
        "id": "4Px0y6XmJ9rI"
      }
    },
    {
      "cell_type": "markdown",
      "source": [
        "9. What is type casting in Python?\n",
        "-> Type casting is the process of coverting value of one data type to another."
      ],
      "metadata": {
        "id": "9ruTyt0FRfD6"
      }
    },
    {
      "cell_type": "markdown",
      "source": [
        "10. WHat is the difference between implicit and explicit type casting?\n",
        "-> Implicit type casting is done automatically by Python when a variable is assigned a value of a different data type whereas explicit type casting is done manually using functions."
      ],
      "metadata": {
        "id": "jr_tlRUqR_0m"
      }
    },
    {
      "cell_type": "markdown",
      "source": [
        "11. What is the purpose of conditional statements in Python?\n",
        "-> The purpose of conditional statements in Python is to control the flow of a program based on specific conditions."
      ],
      "metadata": {
        "id": "o6tWsnswS-3z"
      }
    },
    {
      "cell_type": "markdown",
      "source": [
        "12. How dooes the elif statement work?\n",
        "-> The elif statements in Python is combination of \"else\" and \"if\" statements. It is used to check the another condition if the precious condition is not true."
      ],
      "metadata": {
        "id": "MVrgLruAeARE"
      }
    },
    {
      "cell_type": "markdown",
      "source": [
        "13. What is the difference between for and while loops?\n",
        "-> With the \"While\" loop, we can execute a set of statements as long as condition is true.\n",
        "With the \"For\" loop, we can execute a set of statements once for each item in a list."
      ],
      "metadata": {
        "id": "saAowGl-fxDc"
      }
    },
    {
      "cell_type": "markdown",
      "source": [
        "14. Describe a scenario where a while loop is more suitable than a for loop.\n",
        "-> A while loop is more suitable whent the number of iterations is not known. We can consider a scenario: User Login with limited attempts."
      ],
      "metadata": {
        "id": "SDO1uXGliFZb"
      }
    },
    {
      "cell_type": "markdown",
      "source": [
        "# **PRACTICAL QUESTIONS**"
      ],
      "metadata": {
        "id": "h0NW7qN7ksjp"
      }
    },
    {
      "cell_type": "code",
      "source": [
        "# 1. Write a program to print \"Hello World!\"\n",
        "print (\"Hello, World!\")"
      ],
      "metadata": {
        "colab": {
          "base_uri": "https://localhost:8080/"
        },
        "id": "KlYPizH0kyvT",
        "outputId": "4c59e124-46b2-4730-d493-cb83abf178a5"
      },
      "execution_count": 1,
      "outputs": [
        {
          "output_type": "stream",
          "name": "stdout",
          "text": [
            "Hello, World!\n"
          ]
        }
      ]
    },
    {
      "cell_type": "code",
      "source": [
        "# 2. Write a program that displays your name and age.\n",
        "name = \"Prem Panjiyar\"\n",
        "age = 27\n",
        "print(\"My name is\", name,\".\", \"\\nMy age is\", age)"
      ],
      "metadata": {
        "colab": {
          "base_uri": "https://localhost:8080/"
        },
        "id": "_Dp-TERBlEej",
        "outputId": "f2337754-4a12-4a94-b822-bbd3212f4f5b"
      },
      "execution_count": 10,
      "outputs": [
        {
          "output_type": "stream",
          "name": "stdout",
          "text": [
            "My name is Prem Panjiyar . \n",
            "My age is 27\n"
          ]
        }
      ]
    },
    {
      "cell_type": "code",
      "source": [
        "# 3. Write a code to print all the pre-defined keywords in Python using the keyword library.\n",
        "import keyword\n",
        "\n",
        "keywords = keyword.kwlist\n",
        "\n",
        "for kw in keywords:\n",
        "  print(kw)"
      ],
      "metadata": {
        "colab": {
          "base_uri": "https://localhost:8080/"
        },
        "collapsed": true,
        "id": "d2TtLg_omNdI",
        "outputId": "4f1a4a42-851a-4e88-9eef-9e890ca22636"
      },
      "execution_count": 14,
      "outputs": [
        {
          "output_type": "stream",
          "name": "stdout",
          "text": [
            "False\n",
            "None\n",
            "True\n",
            "and\n",
            "as\n",
            "assert\n",
            "async\n",
            "await\n",
            "break\n",
            "class\n",
            "continue\n",
            "def\n",
            "del\n",
            "elif\n",
            "else\n",
            "except\n",
            "finally\n",
            "for\n",
            "from\n",
            "global\n",
            "if\n",
            "import\n",
            "in\n",
            "is\n",
            "lambda\n",
            "nonlocal\n",
            "not\n",
            "or\n",
            "pass\n",
            "raise\n",
            "return\n",
            "try\n",
            "while\n",
            "with\n",
            "yield\n"
          ]
        }
      ]
    },
    {
      "cell_type": "code",
      "source": [
        "# 4. Write a program that checks if a given word is a Python keyword\n",
        "import keyword\n",
        "\n",
        "def check_keyword(word):\n",
        "  if keyword.iskeyword(word):\n",
        "        print(f\"'{word}' is a Python keyword.\")\n",
        "  else:\n",
        "        print(f\"'{word}' is not a Python keyword.\")\n",
        "\n",
        "word = input(\"Enter a word to check: \")\n",
        "check_keyword(word)\n",
        "\n",
        "# Took help from chatgpt. I am able to understand and code basic programs but unable to code these type of codes."
      ],
      "metadata": {
        "colab": {
          "base_uri": "https://localhost:8080/"
        },
        "id": "6hZGd8GTwoSs",
        "outputId": "f1c96dba-0f04-4aa0-e731-142b7fcee14b"
      },
      "execution_count": 20,
      "outputs": [
        {
          "output_type": "stream",
          "name": "stdout",
          "text": [
            "Enter a word to check: for\n",
            "'for' is a Python keyword.\n"
          ]
        }
      ]
    },
    {
      "cell_type": "code",
      "source": [
        "# 5. Create a list and tuple in Python, and demonstrate how attempting to change an element works differently for each.\n",
        "\n",
        "my_list = [1,2,3]\n",
        "my_tuple = (1, 2, 3)\n",
        "\n",
        "my_list[0] = 100\n",
        "print(\"New list is: \", my_list)\n",
        "\n",
        "my_tuple[0] = 99\n",
        "print(\"New tuple is: \", my_tuple)"
      ],
      "metadata": {
        "colab": {
          "base_uri": "https://localhost:8080/",
          "height": 216
        },
        "id": "oSPGqNnc1x5G",
        "outputId": "14cb25c1-4592-4fcd-b82f-1033024245ab"
      },
      "execution_count": 23,
      "outputs": [
        {
          "output_type": "stream",
          "name": "stdout",
          "text": [
            "New list is:  [100, 2, 3]\n"
          ]
        },
        {
          "output_type": "error",
          "ename": "TypeError",
          "evalue": "'tuple' object does not support item assignment",
          "traceback": [
            "\u001b[0;31m---------------------------------------------------------------------------\u001b[0m",
            "\u001b[0;31mTypeError\u001b[0m                                 Traceback (most recent call last)",
            "\u001b[0;32m<ipython-input-23-2116817cf1b2>\u001b[0m in \u001b[0;36m<cell line: 9>\u001b[0;34m()\u001b[0m\n\u001b[1;32m      7\u001b[0m \u001b[0mprint\u001b[0m\u001b[0;34m(\u001b[0m\u001b[0;34m\"New list is: \"\u001b[0m\u001b[0;34m,\u001b[0m \u001b[0mmy_list\u001b[0m\u001b[0;34m)\u001b[0m\u001b[0;34m\u001b[0m\u001b[0;34m\u001b[0m\u001b[0m\n\u001b[1;32m      8\u001b[0m \u001b[0;34m\u001b[0m\u001b[0m\n\u001b[0;32m----> 9\u001b[0;31m \u001b[0mmy_tuple\u001b[0m\u001b[0;34m[\u001b[0m\u001b[0;36m0\u001b[0m\u001b[0;34m]\u001b[0m \u001b[0;34m=\u001b[0m \u001b[0;36m99\u001b[0m\u001b[0;34m\u001b[0m\u001b[0;34m\u001b[0m\u001b[0m\n\u001b[0m\u001b[1;32m     10\u001b[0m \u001b[0mprint\u001b[0m\u001b[0;34m(\u001b[0m\u001b[0;34m\"New tuple is: \"\u001b[0m\u001b[0;34m,\u001b[0m \u001b[0mmy_tuple\u001b[0m\u001b[0;34m)\u001b[0m\u001b[0;34m\u001b[0m\u001b[0;34m\u001b[0m\u001b[0m\n",
            "\u001b[0;31mTypeError\u001b[0m: 'tuple' object does not support item assignment"
          ]
        }
      ]
    },
    {
      "cell_type": "code",
      "source": [
        "# 6/7. Write a function to demonstrate the behavior of mutable and immutable arguments\n",
        "\n"
      ],
      "metadata": {
        "id": "gZjZAQ8m4tH3"
      },
      "execution_count": null,
      "outputs": []
    },
    {
      "cell_type": "code",
      "source": [
        "# 8. Write a program to demonstrate the use of logical operators\n",
        "\n",
        "a = 10\n",
        "b = 50\n",
        "c = 15\n",
        "if (a>0):\n",
        "  print(f)\n",
        "\n",
        "if (a<b) and (b<c):\n",
        "  print()\n",
        "\n",
        "if (a>b) or (b>c):\n",
        "  print()\n",
        "\n",
        "if (a<b) or (b<c):\n",
        "  print()\n",
        "\n",
        "\n"
      ],
      "metadata": {
        "colab": {
          "base_uri": "https://localhost:8080/"
        },
        "id": "rD7YcxLJ7uYX",
        "outputId": "d0e18cd8-887a-4056-f225-ead77cf3da67"
      },
      "execution_count": 34,
      "outputs": [
        {
          "output_type": "stream",
          "name": "stdout",
          "text": [
            "\n",
            "\n"
          ]
        }
      ]
    },
    {
      "cell_type": "code",
      "source": [
        "# 9. Write a Python program to convert user input from string to integer, float, and boolean types\n",
        "\n",
        "name = \"1\"\n",
        "print(int(name))\n",
        "print(float(a))\n",
        "bool(name)\n",
        "\n",
        "\n"
      ],
      "metadata": {
        "colab": {
          "base_uri": "https://localhost:8080/"
        },
        "id": "2f7bRdxz-7jL",
        "outputId": "a79a06ad-2ce9-4ec6-ea72-daacf4d3a8d8"
      },
      "execution_count": 53,
      "outputs": [
        {
          "output_type": "stream",
          "name": "stdout",
          "text": [
            "1\n",
            "10.0\n"
          ]
        },
        {
          "output_type": "execute_result",
          "data": {
            "text/plain": [
              "True"
            ]
          },
          "metadata": {},
          "execution_count": 53
        }
      ]
    },
    {
      "cell_type": "code",
      "source": [
        "# 10. Write code to demonstrate type casting with list elements\n",
        "\n",
        "list1 = [\"1\", \"2\", \"3\"]\n",
        "\n",
        "int_list = [int(item) for item in list1]\n",
        "float_list = [float(item) for item in list1]\n",
        "\n",
        "print(\"Original List: \", list1)\n",
        "print(\"Integer list: \", int_list)\n",
        "print(\"Float lust: \", float_list)\n"
      ],
      "metadata": {
        "colab": {
          "base_uri": "https://localhost:8080/"
        },
        "id": "LjHJQ51HCrlZ",
        "outputId": "794d0896-ccfc-4859-fa56-9b850615513d"
      },
      "execution_count": 58,
      "outputs": [
        {
          "output_type": "stream",
          "name": "stdout",
          "text": [
            "Original List:  ['1', '2', '3']\n",
            "Integer list:  [1, 2, 3]\n",
            "Float lust:  [1.0, 2.0, 3.0]\n"
          ]
        }
      ]
    },
    {
      "cell_type": "code",
      "source": [
        "#11. Write a program that checks if a number is positive, negative, or zero\n",
        "\n",
        "a = 0\n",
        "if a < 0:\n",
        "  print(\"The number is negative\")\n",
        "elif a > 0:\n",
        "  print(\"The number is positive\")\n",
        "else:\n",
        "  print(\"The number is 0\")\n"
      ],
      "metadata": {
        "colab": {
          "base_uri": "https://localhost:8080/"
        },
        "id": "3pTPDLg9FT8y",
        "outputId": "fa4404c0-3a10-408d-88e2-e00817ba004f"
      },
      "execution_count": 61,
      "outputs": [
        {
          "output_type": "stream",
          "name": "stdout",
          "text": [
            "The number is 0\n"
          ]
        }
      ]
    },
    {
      "cell_type": "code",
      "source": [
        "# 12.  Write a for loop to print numbers from 1 to 10\n",
        "\n",
        "for i in range(1,11):\n",
        "  print(i)\n",
        "\n"
      ],
      "metadata": {
        "colab": {
          "base_uri": "https://localhost:8080/"
        },
        "id": "pyx4pmHfF_5Z",
        "outputId": "49b82abf-2d36-4152-c58e-6762285913c9"
      },
      "execution_count": 62,
      "outputs": [
        {
          "output_type": "stream",
          "name": "stdout",
          "text": [
            "1\n",
            "2\n",
            "3\n",
            "4\n",
            "5\n",
            "6\n",
            "7\n",
            "8\n",
            "9\n",
            "10\n"
          ]
        }
      ]
    },
    {
      "cell_type": "code",
      "source": [
        "# 13. Write a Python program to find the sum of all even numbers between 1 and 50\n",
        "even_sum = 0\n",
        "for num in range(1,50):\n",
        "  if num % 2 == 0:\n",
        "    even_sum += num\n",
        "\n",
        "print(even_sum)\n"
      ],
      "metadata": {
        "colab": {
          "base_uri": "https://localhost:8080/"
        },
        "id": "_say9z8RJmoo",
        "outputId": "a61a398f-274b-4dad-af03-b3772e52c17e"
      },
      "execution_count": 77,
      "outputs": [
        {
          "output_type": "stream",
          "name": "stdout",
          "text": [
            "600\n"
          ]
        }
      ]
    },
    {
      "cell_type": "code",
      "source": [
        "# 14. Write a program to reverse a string using a while loop\n",
        "input_string = input(\"Enter a string: \")\n",
        "\n",
        "reversed_string = \"\"\n",
        "\n",
        "index = len(input_string) - 1\n",
        "\n",
        "while index >= 0:\n",
        "  reversed_string += input_string[index]\n",
        "  index -= 1\n",
        "\n",
        "print(\"Reversed string:\", reversed_string)"
      ],
      "metadata": {
        "colab": {
          "base_uri": "https://localhost:8080/"
        },
        "id": "ICdn0oGtMUd-",
        "outputId": "2b8e3764-c377-4ab7-c201-ae7b3c05755e"
      },
      "execution_count": 78,
      "outputs": [
        {
          "output_type": "stream",
          "name": "stdout",
          "text": [
            "Enter a string: Prem\n",
            "Reversed string: merP\n"
          ]
        }
      ]
    },
    {
      "cell_type": "code",
      "source": [
        "# 15 Write a Python program to calculate the factorial of a number provided by the user using a while loop\n",
        "\n"
      ],
      "metadata": {
        "id": "eHiUtmEDNI7D"
      },
      "execution_count": null,
      "outputs": []
    }
  ]
}